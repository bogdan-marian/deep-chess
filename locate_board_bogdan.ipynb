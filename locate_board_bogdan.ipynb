{
 "cells": [
  {
   "cell_type": "markdown",
   "metadata": {},
   "source": [
    "# locate board \n",
    "bogdan version"
   ]
  },
  {
   "cell_type": "code",
   "execution_count": 12,
   "metadata": {},
   "outputs": [],
   "source": [
    "#ref_01_import_section\n",
    "import pickle\n",
    "import cv2\n",
    "import numpy as np\n",
    "import matplotlib.pyplot as plt\n",
    "import matplotlib.cm as cm\n",
    "import matplotlib.image as mpimg\n",
    "import glob\n",
    "from PIL import Image\n"
   ]
  },
  {
   "cell_type": "code",
   "execution_count": null,
   "metadata": {},
   "outputs": [
    {
     "name": "stdout",
     "output_type": "stream",
     "text": [
      "./calibrate_camera/20171224_122214.png\n",
      "./calibrate_camera/20171224_122217.png\n",
      "./calibrate_camera/20171224_122219.png\n",
      "./calibrate_camera/20171224_122209.png\n"
     ]
    }
   ],
   "source": [
    "class Camera():\n",
    "    \n",
    "    def map_uint16_to_uint8(img, lower_bound=None, upper_bound=None):\n",
    "        '''\n",
    "        Map a 16-bit image trough a lookup table to convert it to 8-bit.\n",
    "\n",
    "        Parameters\n",
    "        ----------\n",
    "        img: numpy.ndarray[np.uint16]\n",
    "            image that should be mapped\n",
    "        lower_bound: int, optional\n",
    "            lower bound of the range that should be mapped to ``[0, 255]``,\n",
    "            value must be in the range ``[0, 65535]`` and smaller than `upper_bound`\n",
    "            (defaults to ``numpy.min(img)``)\n",
    "        upper_bound: int, optional\n",
    "           upper bound of the range that should be mapped to ``[0, 255]``,\n",
    "           value must be in the range ``[0, 65535]`` and larger than `lower_bound`\n",
    "           (defaults to ``numpy.max(img)``)\n",
    "\n",
    "        Returns\n",
    "        -------\n",
    "        numpy.ndarray[uint8]\n",
    "        '''\n",
    "        if not(0 <= lower_bound < 2**16) and lower_bound is not None:\n",
    "            raise ValueError(\n",
    "                '\"lower_bound\" must be in the range [0, 65535]')\n",
    "        if not(0 <= upper_bound < 2**16) and upper_bound is not None:\n",
    "            raise ValueError(\n",
    "                '\"upper_bound\" must be in the range [0, 65535]')\n",
    "        if lower_bound is None:\n",
    "            lower_bound = np.min(img)\n",
    "        if upper_bound is None:\n",
    "            upper_bound = np.max(img)\n",
    "        if lower_bound >= upper_bound:\n",
    "            raise ValueError(\n",
    "                '\"lower_bound\" must be smaller than \"upper_bound\"')\n",
    "        lut = np.concatenate([\n",
    "            np.zeros(lower_bound, dtype=np.uint16),\n",
    "            np.linspace(0, 255, upper_bound - lower_bound).astype(np.uint16),\n",
    "            np.ones(2**16 - upper_bound, dtype=np.uint16) * 255\n",
    "        ])\n",
    "        return lut[img].astype(np.uint8)\n",
    "    \n",
    "    def __init__ (self):\n",
    "        self.ret = None\n",
    "        self.mtx = None\n",
    "        self.dist = None\n",
    "        self.rvecs = None\n",
    "        self.tvecs = None\n",
    "        self.imageSize = None\n",
    "        \n",
    "        # Read in a calibration image\n",
    "        images = glob.glob('./calibrate_camera/*.png')\n",
    "        \n",
    "        # Arrays to store object points and image points from all the images\n",
    "        objpoints = [] #3D points in real world space\n",
    "        imgpoints = [] #2d points in image plane\n",
    "        \n",
    "        # Prepare oject points, like (0,0,0), (1,0,0), (2,0,0) ...., (7,5,0)\n",
    "        objp = np.zeros((6*9, 3), np.float32)\n",
    "        objp[:,:2]  = np.mgrid[0:9, 0:6].T.reshape(-1,2) #x, y coordinates\n",
    "        \n",
    "        for fname in images:\n",
    "            print(fname)\n",
    "            # read each image\n",
    "            img = mpimg.imread(fname)\n",
    "            im = Image.open(fname)\n",
    "            im2 = cv2.imread(fname, cv2.IMREAD_UNCHANGED)\n",
    "            \n",
    "            # Convert image to grayscale\n",
    "            # gray = cv2.cvtColor(img, cv2.COLOR_BGR2GRAY)            \n",
    "            # Find the chessboard corners\n",
    "            ret, corners = cv2.findChessboardCorners(im2, (7,7), None)\n",
    "            \n",
    "            #if ret == True:\n",
    "#             #    imgpoints.append(corners)\n",
    "#                 objpoints.append(objp)\n",
    "                \n",
    "#             #set the size\n",
    "#             if self.imageSize is None:\n",
    "#                 self.imageSize = gray.shape[::-1]\n",
    "                \n",
    "#             self.ret, self.mtx, self.dist, self.rvecs, self.tvecs = cv2.calibrateCamera(objpoints, imgpoints, self.imageSize, None, None)\n",
    "            \n",
    "            \n",
    "            \n",
    "            \n",
    "        \n",
    "        \n",
    "        \n",
    "my_camera = Camera()\n",
    "\n",
    "        "
   ]
  },
  {
   "cell_type": "code",
   "execution_count": null,
   "metadata": {},
   "outputs": [],
   "source": []
  }
 ],
 "metadata": {
  "kernelspec": {
   "display_name": "Python 2",
   "language": "python",
   "name": "python2"
  },
  "language_info": {
   "codemirror_mode": {
    "name": "ipython",
    "version": 2
   },
   "file_extension": ".py",
   "mimetype": "text/x-python",
   "name": "python",
   "nbconvert_exporter": "python",
   "pygments_lexer": "ipython2",
   "version": "2.7.12"
  }
 },
 "nbformat": 4,
 "nbformat_minor": 2
}
